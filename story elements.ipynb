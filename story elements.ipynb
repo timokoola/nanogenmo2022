{
 "cells": [
  {
   "cell_type": "code",
   "execution_count": 1,
   "id": "ef90d121",
   "metadata": {},
   "outputs": [],
   "source": [
    "# let's first fix items and try to generate some chapter prompts\n",
    "# no bigger structure yet\n",
    "import random\n",
    "# let's fix the seed \n",
    "random.seed(10881)\n",
    "land = \"Evoria\"\n",
    "# then the chapter environments\n",
    "environments = [\"big city\", \"big city gate\", \"farm land\", \"river crossing\", \"forest\", \"wetlands\", \"foot of the mountain\", \"peaceful valley\", \"mountain pass\", \"mountain forest\", \"town\", \"grassland\", \"lake\", \"dry grassland\", \"steppe\", \"desert\", \"oasis\", \"desert city\", \"desert mountain\"]\n",
    "# drama events\n",
    "events = [\"confrontation with authorities\", \"escape\", \"fight\", \"ambush\", \"meeting a friend\", \"meeting a healer\", \"meeting a sage\", \"rest around a fire\"]\n",
    "external_actor = [\"corrupt soldiers\", \"dragon\", \"wizard\", \"travellers\", \"party of elfs\", \"bandits\"]\n",
    "# Now just a hard coded string\n",
    "hero1_description = \"She was a woman of few words, but her actions spoke louder than any words ever could. She was a fierce warrior, and she had a heart of gold. She loved her kitten as much as she hated the trolls that had been harassing the farmlands. She was strong and courageous and always ready to fight for what was right.\"\n",
    "hero2_description = \"This funny man loves his dog more than anything, and he'll do anything to make sure his furry companion is happy and healthy. He'll go above and beyond to get the best toys, food, and care for his dog, and he'll always be there to cuddle and play. However, this man also yearns for recognition and validation from others. He wants to be seen as funny and charming, and he'll go to great lengths to get attention and approval. sometimes, this can lead to him being a little too over-the-top or even obnoxious, but deep down he just wants to be loved and accepted.\"\n",
    "hero3_description = \"The travelling salesperson is tall and affable, and he lives in the land of Evoria. The kingdom is healing after a brutal war that savaged the country 150 years ago. The salesperson is a welcome sight in the kingdom, as he brings news from the outside world and sells goods that are needed in the kingdom. He is a skilled negotiator and is always able to get the best prices for his goods. He is also a talented storyteller, and he often entertains the locals with tales of his travels.\""
   ]
  },
  {
   "cell_type": "code",
   "execution_count": 2,
   "id": "123f040c",
   "metadata": {},
   "outputs": [],
   "source": [
    "def generate_chapter(e):\n",
    "    if random.random() < 0.7:\n",
    "        event = random.choice(events)\n",
    "        external = random.choice(external_actor)\n",
    "    else: \n",
    "        event = \"travel through and tell stories\"\n",
    "        external = \"alone and quietly in the group\"\n",
    "    \n",
    "    return f\"At {e} the group has {event} with {external}. Exciting fantasy story describing the surroundings, third person view. Five paragraphs\"\n",
    "    \n",
    "\n",
    "        "
   ]
  },
  {
   "cell_type": "code",
   "execution_count": 3,
   "id": "827b8be6",
   "metadata": {},
   "outputs": [
    {
     "name": "stdout",
     "output_type": "stream",
     "text": [
      "At big city the group has travel through and tell stories with alone and quietly in the group. Exciting fantasy story describing the surroundings, third person view. Five paragraphs\n",
      "At big city gate the group has travel through and tell stories with alone and quietly in the group. Exciting fantasy story describing the surroundings, third person view. Five paragraphs\n",
      "At farm land the group has travel through and tell stories with alone and quietly in the group. Exciting fantasy story describing the surroundings, third person view. Five paragraphs\n",
      "At river crossing the group has meeting a friend with dragon. Exciting fantasy story describing the surroundings, third person view. Five paragraphs\n",
      "At forest the group has travel through and tell stories with alone and quietly in the group. Exciting fantasy story describing the surroundings, third person view. Five paragraphs\n",
      "At wetlands the group has travel through and tell stories with alone and quietly in the group. Exciting fantasy story describing the surroundings, third person view. Five paragraphs\n",
      "At foot of the mountain the group has travel through and tell stories with alone and quietly in the group. Exciting fantasy story describing the surroundings, third person view. Five paragraphs\n",
      "At peaceful valley the group has meeting a friend with corrupt soldiers. Exciting fantasy story describing the surroundings, third person view. Five paragraphs\n",
      "At mountain pass the group has rest around a fire with travellers. Exciting fantasy story describing the surroundings, third person view. Five paragraphs\n",
      "At mountain forest the group has meeting a sage with dragon. Exciting fantasy story describing the surroundings, third person view. Five paragraphs\n",
      "At town the group has meeting a friend with travellers. Exciting fantasy story describing the surroundings, third person view. Five paragraphs\n",
      "At grassland the group has rest around a fire with travellers. Exciting fantasy story describing the surroundings, third person view. Five paragraphs\n",
      "At lake the group has meeting a healer with corrupt soldiers. Exciting fantasy story describing the surroundings, third person view. Five paragraphs\n",
      "At dry grassland the group has travel through and tell stories with alone and quietly in the group. Exciting fantasy story describing the surroundings, third person view. Five paragraphs\n",
      "At steppe the group has travel through and tell stories with alone and quietly in the group. Exciting fantasy story describing the surroundings, third person view. Five paragraphs\n",
      "At desert the group has travel through and tell stories with alone and quietly in the group. Exciting fantasy story describing the surroundings, third person view. Five paragraphs\n",
      "At oasis the group has fight with travellers. Exciting fantasy story describing the surroundings, third person view. Five paragraphs\n",
      "At desert city the group has confrontation with authorities with corrupt soldiers. Exciting fantasy story describing the surroundings, third person view. Five paragraphs\n",
      "At desert mountain the group has fight with wizard. Exciting fantasy story describing the surroundings, third person view. Five paragraphs\n"
     ]
    }
   ],
   "source": [
    "print(\"\\n\".join([generate_chapter(x) for x in environments]))"
   ]
  },
  {
   "cell_type": "code",
   "execution_count": 4,
   "id": "b0bff965",
   "metadata": {},
   "outputs": [],
   "source": [
    "# let's try to build up a chapter\n",
    "# hard coded first"
   ]
  },
  {
   "cell_type": "code",
   "execution_count": 13,
   "id": "3bd7ea5a",
   "metadata": {},
   "outputs": [],
   "source": [
    "import os\n",
    "import openai\n",
    "\n",
    "# Load your API key from an environment variable or secret management service\n",
    "openai.api_key = os.getenv(\"OPENAI_KEY\")\n",
    "\n",
    "response = openai.Completion.create(model=\"text-davinci-002\", prompt=\"Say this is a test\", temperature=0.8, max_tokens=40)"
   ]
  },
  {
   "cell_type": "code",
   "execution_count": 14,
   "id": "9ecc5fff",
   "metadata": {},
   "outputs": [
    {
     "data": {
      "text/plain": [
       "<OpenAIObject text_completion id=cmpl-6DIyeB9oICYfkS8nucm6qC0LMJAtP at 0x1111dbb50> JSON: {\n",
       "  \"choices\": [\n",
       "    {\n",
       "      \"finish_reason\": \"stop\",\n",
       "      \"index\": 0,\n",
       "      \"logprobs\": null,\n",
       "      \"text\": \" for saying this is a test.\\n\\nThis is a test for saying this is a test.\"\n",
       "    }\n",
       "  ],\n",
       "  \"created\": 1668629232,\n",
       "  \"id\": \"cmpl-6DIyeB9oICYfkS8nucm6qC0LMJAtP\",\n",
       "  \"model\": \"text-davinci-002\",\n",
       "  \"object\": \"text_completion\",\n",
       "  \"usage\": {\n",
       "    \"completion_tokens\": 20,\n",
       "    \"prompt_tokens\": 5,\n",
       "    \"total_tokens\": 25\n",
       "  }\n",
       "}"
      ]
     },
     "execution_count": 14,
     "metadata": {},
     "output_type": "execute_result"
    }
   ],
   "source": [
    "response"
   ]
  },
  {
   "cell_type": "code",
   "execution_count": null,
   "id": "34d9260d",
   "metadata": {},
   "outputs": [],
   "source": []
  }
 ],
 "metadata": {
  "kernelspec": {
   "display_name": "Python 3 (ipykernel)",
   "language": "python",
   "name": "python3"
  },
  "language_info": {
   "codemirror_mode": {
    "name": "ipython",
    "version": 3
   },
   "file_extension": ".py",
   "mimetype": "text/x-python",
   "name": "python",
   "nbconvert_exporter": "python",
   "pygments_lexer": "ipython3",
   "version": "3.10.8"
  }
 },
 "nbformat": 4,
 "nbformat_minor": 5
}
