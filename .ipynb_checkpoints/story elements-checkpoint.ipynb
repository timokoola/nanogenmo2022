{
 "cells": [
  {
   "cell_type": "code",
   "execution_count": 1,
   "id": "ef90d121",
   "metadata": {},
   "outputs": [],
   "source": [
    "# let's first fix items and try to generate some chapter prompts\n",
    "# no bigger structure yet\n",
    "import random\n",
    "# let's fix the seed \n",
    "random.seed(10881)\n",
    "land = \"Evoria\"\n",
    "# then the chapter environments\n",
    "environments = [\"big city\", \"big city gate\", \"farm land\", \"river crossing\", \"forest\", \"wetlands\", \"foot of the mountain\", \"peaceful valley\", \"mountain pass\", \"mountain forest\", \"town\", \"grassland\", \"lake\", \"dry grassland\", \"steppe\", \"desert\", \"oasis\", \"desert city\", \"desert mountain\"]\n",
    "# drama events\n",
    "events = [\"confrontation with authorities\", \"escape\", \"fight\", \"ambush\", \"meeting a friend\", \"meeting a healer\", \"meeting a sage\", \"rest around a fire\"]\n",
    "external_actor = [\"corrupt soldiers\", \"dragon\", \"wizard\", \"travellers\", \"party of elfs\", \"bandits\"]\n",
    "# Now just a hard coded string\n",
    "hero1_description = \"She was a woman of few words, but her actions spoke louder than any words ever could. She was a fierce warrior, and she had a heart of gold. She loved her kitten as much as she hated the trolls that had been harassing the farmlands. She was strong and courageous and always ready to fight for what was right.\"\n",
    "hero2_description = \"This funny man loves his dog more than anything, and he'll do anything to make sure his furry companion is happy and healthy. He'll go above and beyond to get the best toys, food, and care for his dog, and he'll always be there to cuddle and play. However, this man also yearns for recognition and validation from others. He wants to be seen as funny and charming, and he'll go to great lengths to get attention and approval. sometimes, this can lead to him being a little too over-the-top or even obnoxious, but deep down he just wants to be loved and accepted.\"\n",
    "hero3_description = \"The travelling salesperson is tall and affable, and he lives in the land of Evoria. The kingdom is healing after a brutal war that savaged the country 150 years ago. The salesperson is a welcome sight in the kingdom, as he brings news from the outside world and sells goods that are needed in the kingdom. He is a skilled negotiator and is always able to get the best prices for his goods. He is also a talented storyteller, and he often entertains the locals with tales of his travels.\""
   ]
  },
  {
   "cell_type": "code",
   "execution_count": 2,
   "id": "123f040c",
   "metadata": {},
   "outputs": [],
   "source": [
    "def generate_chapter(e):\n",
    "    if random.random() < 0.7:\n",
    "        event = random.choice(events)\n",
    "        external = random.choice(external_actor)\n",
    "    else: \n",
    "        event = \"travel through and tell stories\"\n",
    "        external = \"alone and quietly in the group\"\n",
    "    \n",
    "    return f\"At {e} the group has {event} with {external}. Exciting fantasy story describing the surroundings, third person view. Five paragraphs\"\n",
    "    \n",
    "\n",
    "        "
   ]
  },
  {
   "cell_type": "code",
   "execution_count": 3,
   "id": "827b8be6",
   "metadata": {},
   "outputs": [
    {
     "name": "stdout",
     "output_type": "stream",
     "text": [
      "At big city the group has travel through and tell stories with alone and quietly in the group. Exciting fantasy story describing the surroundings, third person view. Five paragraphs\n",
      "At big city gate the group has travel through and tell stories with alone and quietly in the group. Exciting fantasy story describing the surroundings, third person view. Five paragraphs\n",
      "At farm land the group has travel through and tell stories with alone and quietly in the group. Exciting fantasy story describing the surroundings, third person view. Five paragraphs\n",
      "At river crossing the group has meeting a friend with dragon. Exciting fantasy story describing the surroundings, third person view. Five paragraphs\n",
      "At forest the group has travel through and tell stories with alone and quietly in the group. Exciting fantasy story describing the surroundings, third person view. Five paragraphs\n",
      "At wetlands the group has travel through and tell stories with alone and quietly in the group. Exciting fantasy story describing the surroundings, third person view. Five paragraphs\n",
      "At foot of the mountain the group has travel through and tell stories with alone and quietly in the group. Exciting fantasy story describing the surroundings, third person view. Five paragraphs\n",
      "At peaceful valley the group has meeting a friend with corrupt soldiers. Exciting fantasy story describing the surroundings, third person view. Five paragraphs\n",
      "At mountain pass the group has rest around a fire with travellers. Exciting fantasy story describing the surroundings, third person view. Five paragraphs\n",
      "At mountain forest the group has meeting a sage with dragon. Exciting fantasy story describing the surroundings, third person view. Five paragraphs\n",
      "At town the group has meeting a friend with travellers. Exciting fantasy story describing the surroundings, third person view. Five paragraphs\n",
      "At grassland the group has rest around a fire with travellers. Exciting fantasy story describing the surroundings, third person view. Five paragraphs\n",
      "At lake the group has meeting a healer with corrupt soldiers. Exciting fantasy story describing the surroundings, third person view. Five paragraphs\n",
      "At dry grassland the group has travel through and tell stories with alone and quietly in the group. Exciting fantasy story describing the surroundings, third person view. Five paragraphs\n",
      "At steppe the group has travel through and tell stories with alone and quietly in the group. Exciting fantasy story describing the surroundings, third person view. Five paragraphs\n",
      "At desert the group has travel through and tell stories with alone and quietly in the group. Exciting fantasy story describing the surroundings, third person view. Five paragraphs\n",
      "At oasis the group has fight with travellers. Exciting fantasy story describing the surroundings, third person view. Five paragraphs\n",
      "At desert city the group has confrontation with authorities with corrupt soldiers. Exciting fantasy story describing the surroundings, third person view. Five paragraphs\n",
      "At desert mountain the group has fight with wizard. Exciting fantasy story describing the surroundings, third person view. Five paragraphs\n"
     ]
    }
   ],
   "source": [
    "print(\"\\n\".join([generate_chapter(x) for x in environments]))"
   ]
  },
  {
   "cell_type": "code",
   "execution_count": 4,
   "id": "b0bff965",
   "metadata": {},
   "outputs": [],
   "source": [
    "# let's try to build up a chapter\n",
    "# hard coded first"
   ]
  },
  {
   "cell_type": "code",
   "execution_count": 5,
   "id": "3bd7ea5a",
   "metadata": {},
   "outputs": [
    {
     "ename": "AuthenticationError",
     "evalue": "No API key provided. You can set your API key in code using 'openai.api_key = <API-KEY>', or you can set the environment variable OPENAI_API_KEY=<API-KEY>). If your API key is stored in a file, you can point the openai module at it with 'openai.api_key_path = <PATH>'. You can generate API keys in the OpenAI web interface. See https://onboard.openai.com for details, or email support@openai.com if you have any questions.",
     "output_type": "error",
     "traceback": [
      "\u001b[0;31m---------------------------------------------------------------------------\u001b[0m",
      "\u001b[0;31mAuthenticationError\u001b[0m                       Traceback (most recent call last)",
      "Cell \u001b[0;32mIn [5], line 7\u001b[0m\n\u001b[1;32m      4\u001b[0m \u001b[38;5;66;03m# Load your API key from an environment variable or secret management service\u001b[39;00m\n\u001b[1;32m      5\u001b[0m openai\u001b[38;5;241m.\u001b[39mapi_key \u001b[38;5;241m=\u001b[39m os\u001b[38;5;241m.\u001b[39mgetenv(\u001b[38;5;124m\"\u001b[39m\u001b[38;5;124mOPENAI_API_KEY\u001b[39m\u001b[38;5;124m\"\u001b[39m)\n\u001b[0;32m----> 7\u001b[0m response \u001b[38;5;241m=\u001b[39m \u001b[43mopenai\u001b[49m\u001b[38;5;241;43m.\u001b[39;49m\u001b[43mCompletion\u001b[49m\u001b[38;5;241;43m.\u001b[39;49m\u001b[43mcreate\u001b[49m\u001b[43m(\u001b[49m\u001b[43mmodel\u001b[49m\u001b[38;5;241;43m=\u001b[39;49m\u001b[38;5;124;43m\"\u001b[39;49m\u001b[38;5;124;43mtext-davinci-002\u001b[39;49m\u001b[38;5;124;43m\"\u001b[39;49m\u001b[43m,\u001b[49m\u001b[43m \u001b[49m\u001b[43mprompt\u001b[49m\u001b[38;5;241;43m=\u001b[39;49m\u001b[38;5;124;43m\"\u001b[39;49m\u001b[38;5;124;43mSay this is a test\u001b[39;49m\u001b[38;5;124;43m\"\u001b[39;49m\u001b[43m,\u001b[49m\u001b[43m \u001b[49m\u001b[43mtemperature\u001b[49m\u001b[38;5;241;43m=\u001b[39;49m\u001b[38;5;241;43m0\u001b[39;49m\u001b[43m,\u001b[49m\u001b[43m \u001b[49m\u001b[43mmax_tokens\u001b[49m\u001b[38;5;241;43m=\u001b[39;49m\u001b[38;5;241;43m6\u001b[39;49m\u001b[43m)\u001b[49m\n",
      "File \u001b[0;32m~/.local/share/virtualenvs/nanogenmo2022-Tah_cjt-/lib/python3.10/site-packages/openai/api_resources/completion.py:25\u001b[0m, in \u001b[0;36mCompletion.create\u001b[0;34m(cls, *args, **kwargs)\u001b[0m\n\u001b[1;32m     23\u001b[0m \u001b[38;5;28;01mwhile\u001b[39;00m \u001b[38;5;28;01mTrue\u001b[39;00m:\n\u001b[1;32m     24\u001b[0m     \u001b[38;5;28;01mtry\u001b[39;00m:\n\u001b[0;32m---> 25\u001b[0m         \u001b[38;5;28;01mreturn\u001b[39;00m \u001b[38;5;28;43msuper\u001b[39;49m\u001b[43m(\u001b[49m\u001b[43m)\u001b[49m\u001b[38;5;241;43m.\u001b[39;49m\u001b[43mcreate\u001b[49m\u001b[43m(\u001b[49m\u001b[38;5;241;43m*\u001b[39;49m\u001b[43margs\u001b[49m\u001b[43m,\u001b[49m\u001b[43m \u001b[49m\u001b[38;5;241;43m*\u001b[39;49m\u001b[38;5;241;43m*\u001b[39;49m\u001b[43mkwargs\u001b[49m\u001b[43m)\u001b[49m\n\u001b[1;32m     26\u001b[0m     \u001b[38;5;28;01mexcept\u001b[39;00m TryAgain \u001b[38;5;28;01mas\u001b[39;00m e:\n\u001b[1;32m     27\u001b[0m         \u001b[38;5;28;01mif\u001b[39;00m timeout \u001b[38;5;129;01mis\u001b[39;00m \u001b[38;5;129;01mnot\u001b[39;00m \u001b[38;5;28;01mNone\u001b[39;00m \u001b[38;5;129;01mand\u001b[39;00m time\u001b[38;5;241m.\u001b[39mtime() \u001b[38;5;241m>\u001b[39m start \u001b[38;5;241m+\u001b[39m timeout:\n",
      "File \u001b[0;32m~/.local/share/virtualenvs/nanogenmo2022-Tah_cjt-/lib/python3.10/site-packages/openai/api_resources/abstract/engine_api_resource.py:107\u001b[0m, in \u001b[0;36mEngineAPIResource.create\u001b[0;34m(cls, api_key, api_base, api_type, request_id, api_version, organization, **params)\u001b[0m\n\u001b[1;32m    104\u001b[0m \u001b[38;5;28;01melif\u001b[39;00m timeout \u001b[38;5;241m==\u001b[39m \u001b[38;5;241m0\u001b[39m:\n\u001b[1;32m    105\u001b[0m     params[\u001b[38;5;124m\"\u001b[39m\u001b[38;5;124mtimeout\u001b[39m\u001b[38;5;124m\"\u001b[39m] \u001b[38;5;241m=\u001b[39m MAX_TIMEOUT\n\u001b[0;32m--> 107\u001b[0m requestor \u001b[38;5;241m=\u001b[39m \u001b[43mapi_requestor\u001b[49m\u001b[38;5;241;43m.\u001b[39;49m\u001b[43mAPIRequestor\u001b[49m\u001b[43m(\u001b[49m\n\u001b[1;32m    108\u001b[0m \u001b[43m    \u001b[49m\u001b[43mapi_key\u001b[49m\u001b[43m,\u001b[49m\n\u001b[1;32m    109\u001b[0m \u001b[43m    \u001b[49m\u001b[43mapi_base\u001b[49m\u001b[38;5;241;43m=\u001b[39;49m\u001b[43mapi_base\u001b[49m\u001b[43m,\u001b[49m\n\u001b[1;32m    110\u001b[0m \u001b[43m    \u001b[49m\u001b[43mapi_type\u001b[49m\u001b[38;5;241;43m=\u001b[39;49m\u001b[43mapi_type\u001b[49m\u001b[43m,\u001b[49m\n\u001b[1;32m    111\u001b[0m \u001b[43m    \u001b[49m\u001b[43mapi_version\u001b[49m\u001b[38;5;241;43m=\u001b[39;49m\u001b[43mapi_version\u001b[49m\u001b[43m,\u001b[49m\n\u001b[1;32m    112\u001b[0m \u001b[43m    \u001b[49m\u001b[43morganization\u001b[49m\u001b[38;5;241;43m=\u001b[39;49m\u001b[43morganization\u001b[49m\u001b[43m,\u001b[49m\n\u001b[1;32m    113\u001b[0m \u001b[43m\u001b[49m\u001b[43m)\u001b[49m\n\u001b[1;32m    114\u001b[0m url \u001b[38;5;241m=\u001b[39m \u001b[38;5;28mcls\u001b[39m\u001b[38;5;241m.\u001b[39mclass_url(engine, api_type, api_version)\n\u001b[1;32m    115\u001b[0m response, _, api_key \u001b[38;5;241m=\u001b[39m requestor\u001b[38;5;241m.\u001b[39mrequest(\n\u001b[1;32m    116\u001b[0m     \u001b[38;5;124m\"\u001b[39m\u001b[38;5;124mpost\u001b[39m\u001b[38;5;124m\"\u001b[39m,\n\u001b[1;32m    117\u001b[0m     url,\n\u001b[0;32m   (...)\u001b[0m\n\u001b[1;32m    122\u001b[0m     request_timeout\u001b[38;5;241m=\u001b[39mrequest_timeout,\n\u001b[1;32m    123\u001b[0m )\n",
      "File \u001b[0;32m~/.local/share/virtualenvs/nanogenmo2022-Tah_cjt-/lib/python3.10/site-packages/openai/api_requestor.py:85\u001b[0m, in \u001b[0;36mAPIRequestor.__init__\u001b[0;34m(self, key, api_base, api_type, api_version, organization)\u001b[0m\n\u001b[1;32m     76\u001b[0m \u001b[38;5;28;01mdef\u001b[39;00m \u001b[38;5;21m__init__\u001b[39m(\n\u001b[1;32m     77\u001b[0m     \u001b[38;5;28mself\u001b[39m,\n\u001b[1;32m     78\u001b[0m     key\u001b[38;5;241m=\u001b[39m\u001b[38;5;28;01mNone\u001b[39;00m,\n\u001b[0;32m   (...)\u001b[0m\n\u001b[1;32m     82\u001b[0m     organization\u001b[38;5;241m=\u001b[39m\u001b[38;5;28;01mNone\u001b[39;00m,\n\u001b[1;32m     83\u001b[0m ):\n\u001b[1;32m     84\u001b[0m     \u001b[38;5;28mself\u001b[39m\u001b[38;5;241m.\u001b[39mapi_base \u001b[38;5;241m=\u001b[39m api_base \u001b[38;5;129;01mor\u001b[39;00m openai\u001b[38;5;241m.\u001b[39mapi_base\n\u001b[0;32m---> 85\u001b[0m     \u001b[38;5;28mself\u001b[39m\u001b[38;5;241m.\u001b[39mapi_key \u001b[38;5;241m=\u001b[39m key \u001b[38;5;129;01mor\u001b[39;00m \u001b[43mutil\u001b[49m\u001b[38;5;241;43m.\u001b[39;49m\u001b[43mdefault_api_key\u001b[49m\u001b[43m(\u001b[49m\u001b[43m)\u001b[49m\n\u001b[1;32m     86\u001b[0m     \u001b[38;5;28mself\u001b[39m\u001b[38;5;241m.\u001b[39mapi_type \u001b[38;5;241m=\u001b[39m (\n\u001b[1;32m     87\u001b[0m         ApiType\u001b[38;5;241m.\u001b[39mfrom_str(api_type)\n\u001b[1;32m     88\u001b[0m         \u001b[38;5;28;01mif\u001b[39;00m api_type\n\u001b[1;32m     89\u001b[0m         \u001b[38;5;28;01melse\u001b[39;00m ApiType\u001b[38;5;241m.\u001b[39mfrom_str(openai\u001b[38;5;241m.\u001b[39mapi_type)\n\u001b[1;32m     90\u001b[0m     )\n\u001b[1;32m     91\u001b[0m     \u001b[38;5;28mself\u001b[39m\u001b[38;5;241m.\u001b[39mapi_version \u001b[38;5;241m=\u001b[39m api_version \u001b[38;5;129;01mor\u001b[39;00m openai\u001b[38;5;241m.\u001b[39mapi_version\n",
      "File \u001b[0;32m~/.local/share/virtualenvs/nanogenmo2022-Tah_cjt-/lib/python3.10/site-packages/openai/util.py:186\u001b[0m, in \u001b[0;36mdefault_api_key\u001b[0;34m()\u001b[0m\n\u001b[1;32m    184\u001b[0m     \u001b[38;5;28;01mreturn\u001b[39;00m openai\u001b[38;5;241m.\u001b[39mapi_key\n\u001b[1;32m    185\u001b[0m \u001b[38;5;28;01melse\u001b[39;00m:\n\u001b[0;32m--> 186\u001b[0m     \u001b[38;5;28;01mraise\u001b[39;00m openai\u001b[38;5;241m.\u001b[39merror\u001b[38;5;241m.\u001b[39mAuthenticationError(\n\u001b[1;32m    187\u001b[0m         \u001b[38;5;124m\"\u001b[39m\u001b[38;5;124mNo API key provided. You can set your API key in code using \u001b[39m\u001b[38;5;124m'\u001b[39m\u001b[38;5;124mopenai.api_key = <API-KEY>\u001b[39m\u001b[38;5;124m'\u001b[39m\u001b[38;5;124m, or you can set the environment variable OPENAI_API_KEY=<API-KEY>). If your API key is stored in a file, you can point the openai module at it with \u001b[39m\u001b[38;5;124m'\u001b[39m\u001b[38;5;124mopenai.api_key_path = <PATH>\u001b[39m\u001b[38;5;124m'\u001b[39m\u001b[38;5;124m. You can generate API keys in the OpenAI web interface. See https://onboard.openai.com for details, or email support@openai.com if you have any questions.\u001b[39m\u001b[38;5;124m\"\u001b[39m\n\u001b[1;32m    188\u001b[0m     )\n",
      "\u001b[0;31mAuthenticationError\u001b[0m: No API key provided. You can set your API key in code using 'openai.api_key = <API-KEY>', or you can set the environment variable OPENAI_API_KEY=<API-KEY>). If your API key is stored in a file, you can point the openai module at it with 'openai.api_key_path = <PATH>'. You can generate API keys in the OpenAI web interface. See https://onboard.openai.com for details, or email support@openai.com if you have any questions."
     ]
    }
   ],
   "source": [
    "import os\n",
    "import openai\n",
    "\n",
    "# Load your API key from an environment variable or secret management service\n",
    "openai.api_key = os.getenv(\"OPENAI_KEY\")\n",
    "\n",
    "response = openai.Completion.create(model=\"text-davinci-002\", prompt=\"Say this is a test\", temperature=0, max_tokens=6)"
   ]
  },
  {
   "cell_type": "code",
   "execution_count": 7,
   "id": "705e6eb9",
   "metadata": {},
   "outputs": [
    {
     "ename": "AttributeError",
     "evalue": "module 'os' has no attribute 'env'",
     "output_type": "error",
     "traceback": [
      "\u001b[0;31m---------------------------------------------------------------------------\u001b[0m",
      "\u001b[0;31mAttributeError\u001b[0m                            Traceback (most recent call last)",
      "Cell \u001b[0;32mIn [7], line 1\u001b[0m\n\u001b[0;32m----> 1\u001b[0m \u001b[43mos\u001b[49m\u001b[38;5;241;43m.\u001b[39;49m\u001b[43menv\u001b[49m\n",
      "\u001b[0;31mAttributeError\u001b[0m: module 'os' has no attribute 'env'"
     ]
    }
   ],
   "source": [
    "os.getenv[\"\"]"
   ]
  },
  {
   "cell_type": "code",
   "execution_count": null,
   "id": "c778948e",
   "metadata": {},
   "outputs": [],
   "source": []
  }
 ],
 "metadata": {
  "kernelspec": {
   "display_name": "Python 3 (ipykernel)",
   "language": "python",
   "name": "python3"
  },
  "language_info": {
   "codemirror_mode": {
    "name": "ipython",
    "version": 3
   },
   "file_extension": ".py",
   "mimetype": "text/x-python",
   "name": "python",
   "nbconvert_exporter": "python",
   "pygments_lexer": "ipython3",
   "version": "3.10.8"
  }
 },
 "nbformat": 4,
 "nbformat_minor": 5
}
