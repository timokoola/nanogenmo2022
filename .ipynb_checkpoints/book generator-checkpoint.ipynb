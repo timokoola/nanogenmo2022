{
 "cells": [
  {
   "cell_type": "code",
   "execution_count": 38,
   "id": "479c07b7",
   "metadata": {},
   "outputs": [],
   "source": [
    "chapter_one = \"1. The Gathering of the Heroes\\n\\nThe stars had been twinkling in the night sky for centuries, but none had seen the sign of the coming storm.\"\n",
    "\n",
    "chapter_titles = [\"1. The Gathering of the Heroes\",\n",
    "\"2. The Dragon's Lair\",\n",
    "\"3. The Search for the Ancient Weapon\",\n",
    "\"4. The Battle Begins\",\n",
    "\"5. The Gathering Storm\",\n",
    "\"6. The Rise of the Dragon\",\n",
    "\"7. The March to Victory\",\n",
    "\"8. The Alliance of Light\",\n",
    "\"9. The Curse of the Dragon\",\n",
    "\"10. The Power of the Sword\",\n",
    "\"11. The Secret of the Dragon's Power\",\n",
    "\"12. The Battle for the Kingdom\",\n",
    "\"13. The Return of the Dark Lord\",\n",
    "\"14. The Betrayal of the King\",\n",
    "\"15. The Curse of the Dark Wizard\",\n",
    "\"16. The Secret of the Dragon's Curse\",\n",
    "\"17. The Journey to the Dragon's Keep\",\n",
    "\"18. The Gathering of the Heroes' Strength\",\n",
    "\"19. The Unveiling of the Ancient Magic\",\n",
    "\"20. The Call to Battle\",\n",
    "\"21. The Awakening of the Dragon\",\n",
    "\"22. The Clash of Steel and Magic\",\n",
    "\"23. The Return of the Ancient Prophecy\",\n",
    "\"24. The Alliance of the Forces of Good\",\n",
    "\"25. The Last Stand of the King\",\n",
    "\"26. The Climb to the Top of the Tower\",\n",
    "\"27. The Battle Against the Dragon\",\n",
    "\"28. The Fall of the Dark Lord\",\n",
    "\"29. The Secret of the Dragon's Heart\",\n",
    "\"30. The Return of the Lost Sword\",\n",
    "\"31. The Shadow of the Dragon's Curse\",\n",
    "\"32. The Search for the Lost Kingdom\",\n",
    "\"33. The Return of the Eternal Sun\",\n",
    "\"34. The Battle for the Soul of Erasth\",\n",
    "\"35. The Curse of the Ancient Magic\",\n",
    "\"36. The Showdown with the Dragon\",\n",
    "\"37. The Revelation of the Dark Secrets\",\n",
    "\"38. The Quest for the Sacred Artifact\",\n",
    "\"39. The Clash of the Opposing Forces\",\n",
    "\"40. The Battle for the Fate of the Kingdom\",\n",
    "\"41. The Power of the Dragon's Breath\",\n",
    "\"42. The Clash of the Opposing Powers\",\n",
    "\"43. The Return of the Last Hope\",\n",
    "\"44. The Return of the Dragon's Fire\",\n",
    "\"45. The Triumph of the Heroes\",\n",
    "\"46. The Search for the Lost Treasure\",\n",
    "\"47. The Battle at the Gates of Hell\",\n",
    "\"48. The Final Showdown\",\n",
    "\"49. The Return of the King\",\n",
    "\"50. The Return of the Dragon's Curse\"]\n",
    "\n",
    "book_metadata = \"\"\"\n",
    "Title: The Dragon's Heart\n",
    "Author: Timo Koola\n",
    "Language: English\n",
    "Genre: Fantasy\n",
    "Release Date: November 30, 2022\n",
    "\"\"\"\n"
   ]
  },
  {
   "cell_type": "code",
   "execution_count": null,
   "id": "605b201a",
   "metadata": {},
   "outputs": [
    {
     "name": "stdout",
     "output_type": "stream",
     "text": [
      "word count: 1017\n",
      "word count: 2121\n"
     ]
    }
   ],
   "source": [
    "import os\n",
    "import openai\n",
    "import json\n",
    "\n",
    "openai.api_key = os.getenv(\"OPENAI_KEY\")\n",
    "\n",
    "chapters = []\n",
    "prompted_chapters = []\n",
    "prompt = book_metadata + \"\\n# \" + chapter_one\n",
    "current_chapter = prompt\n",
    "chapter_index = 0\n",
    "word_count = len(prompt.split())\n",
    "\n",
    "while word_count < 50000:\n",
    "    if chapter_index > 0:\n",
    "        chapter_start_prompt = f\"Fantasy novel placed in The kingdom of Erasth. The kingdom of Erasth was a peaceful kingdom ruled by a wise and benevolent king. The people lived in harmony with nature and each other, and the kingdom was prosperous and happy. The arrival of the dragon changed all of that. Generate two starting sentences for chapter '{chapter_titles[chapter_index]}'\\n\\n\"\n",
    "        response = openai.Completion.create(\n",
    "          model=\"text-davinci-003\",\n",
    "          prompt=chapter_start_prompt,\n",
    "          temperature=0.7,\n",
    "          max_tokens=256,\n",
    "          top_p=1,\n",
    "          frequency_penalty=0,\n",
    "          presence_penalty=0\n",
    "        )\n",
    "        prompt = response[\"choices\"][0][\"text\"]\n",
    "    while len(current_chapter.split()) < 1000:\n",
    "\n",
    "        \n",
    "        response = openai.Completion.create(\n",
    "        model=\"text-davinci-003\",\n",
    "        prompt=prompt,\n",
    "        temperature=1.0,\n",
    "        max_tokens=1400,\n",
    "        top_p=1,\n",
    "        frequency_penalty=0,\n",
    "        presence_penalty=0)\n",
    "        text = response[\"choices\"][0][\"text\"]\n",
    "        prompted_chapters.append({\"prompt\": prompt, \"text\": text})\n",
    "        current_chapter = current_chapter + text\n",
    "        prompt = \". \".join(text.split(\".\")[-3:])\n",
    "        if len(prompt) > 500:\n",
    "            prompt = \". \".join(text.split(\".\")[-2:])\n",
    "        if len(prompt) > 500:\n",
    "            prompt = \"The stars had been twinkling in the night sky for centuries, but none had seen the sign of the coming storm.\"\n",
    "        with open(\"dragons_heart.md\", \"w+\") as f:\n",
    "            f.write(\"\\n\".join(chapters))\n",
    "        with open(\"dragons_heart.json\", \"w+\") as f:\n",
    "            f.write(json.dumps(prompted_chapters))\n",
    "            \n",
    "            \n",
    "        \n",
    "    chapter_index = chapter_index + 1\n",
    "    chapters.append(current_chapter)\n",
    "    current_chapter = \"\\n\\n# \" + chapter_titles[chapter_index] + \"\\n\\n\"\n",
    "    prompt = prompt + \"\\n\\n\" +  current_chapter\n",
    "    \n",
    "    word_count = len(\"\\n\".join(chapters).split())\n",
    "    print(f\"word count: {word_count}\")\n",
    "    \n",
    "        \n",
    "        \n",
    "    \n",
    "\n",
    "\n"
   ]
  },
  {
   "cell_type": "code",
   "execution_count": null,
   "id": "d361f4c7",
   "metadata": {},
   "outputs": [],
   "source": [
    "\n",
    "chapters\n",
    "\n"
   ]
  },
  {
   "cell_type": "code",
   "execution_count": 33,
   "id": "f4083469",
   "metadata": {},
   "outputs": [],
   "source": [
    "text = response[\"choices\"][0][\"text\"]"
   ]
  },
  {
   "cell_type": "code",
   "execution_count": 20,
   "id": "2cf46953",
   "metadata": {},
   "outputs": [],
   "source": [
    "word_count = len(text.split())"
   ]
  },
  {
   "cell_type": "code",
   "execution_count": 37,
   "id": "6ca38183",
   "metadata": {},
   "outputs": [
    {
     "data": {
      "text/plain": [
       "' Tella soon learns that Kai is a prince and the heir to the kingdom, and she must help him get to Norvos before the Queen finds out. \\n\\nAs the kingdom teeters on the edge of violence and darkness, Tella and Kai must use all of their courage and ingenuity to save Norvos from its impending doom. '"
      ]
     },
     "execution_count": 37,
     "metadata": {},
     "output_type": "execute_result"
    }
   ],
   "source": [
    "\". \".join(text.split(\".\")[-3:])"
   ]
  },
  {
   "cell_type": "code",
   "execution_count": null,
   "id": "ac5392fa",
   "metadata": {},
   "outputs": [],
   "source": []
  }
 ],
 "metadata": {
  "kernelspec": {
   "display_name": "Python 3 (ipykernel)",
   "language": "python",
   "name": "python3"
  },
  "language_info": {
   "codemirror_mode": {
    "name": "ipython",
    "version": 3
   },
   "file_extension": ".py",
   "mimetype": "text/x-python",
   "name": "python",
   "nbconvert_exporter": "python",
   "pygments_lexer": "ipython3",
   "version": "3.10.8"
  }
 },
 "nbformat": 4,
 "nbformat_minor": 5
}
